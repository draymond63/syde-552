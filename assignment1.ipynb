{
 "cells": [
  {
   "cell_type": "markdown",
   "metadata": {},
   "source": [
    "# SYDE 552 Assignment 1: Neuron Models\n",
    "### Due Monday, January 29, 11:59pm\n",
    "### Value: 15% of total marks for the course\n",
    "\n",
    "The purpose of this assigment is to give you experience working with neuron models of various complexitites. To do so, we'll be using the BRIAN2 neural simulator, a Python library for creating arbitrary spiking neuron models by defining the underlying equations. We'll provide a basic tutorial for BRIAN that should include everything needed to do this assigment, but for additional help and existing neuron implmenetations, see the links below. \n",
    "\n",
    "Work in groups of 1-2 people. Your code should be original, but you can borrow ideas and equations from these sources when building your models (please note when you do). Your submission will be a filled-out copy of this notebook (cells for code and written answers provided).\n",
    "\n",
    "Additional sources\n",
    " - Equations: Dayan and Abbott Ch.5-6, Gerstner et al Ch.1-2\n",
    " - BRIAN2 documentation: https://brian2.readthedocs.io/en/stable/index.html\n",
    " - Working examples: https://brian2.readthedocs.io/en/stable/resources/tutorials/index.html, https://brian2.readthedocs.io/en/stable/user/multicompartmental.html, https://neuronaldynamics-exercises.readthedocs.io/en/latest/"
   ]
  },
  {
   "cell_type": "markdown",
   "metadata": {},
   "source": [
    "# Install and Import Libraries\n",
    "\n",
    "\n",
    "Install BRIAN2 (https://brian2.readthedocs.io/en/stable/introduction/install.html). You'll also need jupyter, numpy, scipy, and matplotlib. I reccomend using ```pip``` to install everything: from a terminal, run\n",
    "\n",
    "```pip install brian2```\n",
    "\n",
    "```pip install jupyter numpy scipy matplotlib```\n",
    "\n",
    "\n",
    "open this jupyter notebook with \n",
    "\n",
    "```jupyter notebook syde552assigment1.ipynb```"
   ]
  },
  {
   "cell_type": "code",
   "execution_count": 1,
   "metadata": {},
   "outputs": [],
   "source": [
    "import numpy as np\n",
    "import scipy\n",
    "from brian2 import *\n",
    "import matplotlib.pyplot as plt"
   ]
  },
  {
   "cell_type": "markdown",
   "metadata": {},
   "source": [
    "# Intro to BRIAN2 (integrate-and-fire models)\n",
    "BRIAN uses a unit system to give the constants in neuron equations appropriate physical dimensions"
   ]
  },
  {
   "cell_type": "code",
   "execution_count": 2,
   "metadata": {},
   "outputs": [
    {
     "name": "stdout",
     "output_type": "stream",
     "text": [
      "-65. mV\n"
     ]
    }
   ],
   "source": [
    "v_demo = -65*mV  # voltage\n",
    "print(v_demo)"
   ]
  },
  {
   "cell_type": "markdown",
   "metadata": {},
   "source": [
    "BRIAN does unit combinations, but will tell you when units don't match up"
   ]
  },
  {
   "cell_type": "code",
   "execution_count": 3,
   "metadata": {},
   "outputs": [
    {
     "name": "stdout",
     "output_type": "stream",
     "text": [
      "-6.5 mA\n"
     ]
    }
   ],
   "source": [
    "r_demo = 10*ohm  # resistance\n",
    "i_demo = v_demo/r_demo  # calculate current\n",
    "print(i_demo)"
   ]
  },
  {
   "cell_type": "code",
   "execution_count": 4,
   "metadata": {},
   "outputs": [
    {
     "ename": "DimensionMismatchError",
     "evalue": "Cannot calculate -65. mV + -6.5 mA, units do not match (units are V and A).",
     "output_type": "error",
     "traceback": [
      "\u001b[1;31m---------------------------------------------------------------------------\u001b[0m",
      "\u001b[1;31mDimensionMismatchError\u001b[0m                    Traceback (most recent call last)",
      "Cell \u001b[1;32mIn[4], line 1\u001b[0m\n\u001b[1;32m----> 1\u001b[0m \u001b[43mv_demo\u001b[49m\u001b[43m \u001b[49m\u001b[38;5;241;43m+\u001b[39;49m\u001b[43m \u001b[49m\u001b[43mi_demo\u001b[49m  \u001b[38;5;66;03m# volts + amps = (invalid) - should produce a DimensionMismatchError\u001b[39;00m\n",
      "File \u001b[1;32mc:\\Users\\dan\\.virtualenvs\\syde552\\lib\\site-packages\\brian2\\units\\fundamentalunits.py:1422\u001b[0m, in \u001b[0;36mQuantity.__add__\u001b[1;34m(self, other)\u001b[0m\n\u001b[0;32m   1421\u001b[0m \u001b[38;5;28;01mdef\u001b[39;00m \u001b[38;5;21m__add__\u001b[39m(\u001b[38;5;28mself\u001b[39m, other):\n\u001b[1;32m-> 1422\u001b[0m     \u001b[38;5;28;01mreturn\u001b[39;00m \u001b[38;5;28;43mself\u001b[39;49m\u001b[38;5;241;43m.\u001b[39;49m\u001b[43m_binary_operation\u001b[49m\u001b[43m(\u001b[49m\u001b[43mother\u001b[49m\u001b[43m,\u001b[49m\u001b[43m \u001b[49m\u001b[43moperator\u001b[49m\u001b[38;5;241;43m.\u001b[39;49m\u001b[43madd\u001b[49m\u001b[43m,\u001b[49m\n\u001b[0;32m   1423\u001b[0m \u001b[43m                                  \u001b[49m\u001b[43mfail_for_mismatch\u001b[49m\u001b[38;5;241;43m=\u001b[39;49m\u001b[38;5;28;43;01mTrue\u001b[39;49;00m\u001b[43m,\u001b[49m\n\u001b[0;32m   1424\u001b[0m \u001b[43m                                  \u001b[49m\u001b[43moperator_str\u001b[49m\u001b[38;5;241;43m=\u001b[39;49m\u001b[38;5;124;43m'\u001b[39;49m\u001b[38;5;124;43m+\u001b[39;49m\u001b[38;5;124;43m'\u001b[39;49m\u001b[43m)\u001b[49m\n",
      "File \u001b[1;32mc:\\Users\\dan\\.virtualenvs\\syde552\\lib\\site-packages\\brian2\\units\\fundamentalunits.py:1362\u001b[0m, in \u001b[0;36mQuantity._binary_operation\u001b[1;34m(self, other, operation, dim_operation, fail_for_mismatch, operator_str, inplace)\u001b[0m\n\u001b[0;32m   1359\u001b[0m     \u001b[38;5;28;01melse\u001b[39;00m:\n\u001b[0;32m   1360\u001b[0m         message \u001b[38;5;241m=\u001b[39m (\u001b[38;5;124m'\u001b[39m\u001b[38;5;124mCannot calculate \u001b[39m\u001b[38;5;132;01m{value1}\u001b[39;00m\u001b[38;5;124m \u001b[39m\u001b[38;5;132;01m%s\u001b[39;00m\u001b[38;5;124m \u001b[39m\u001b[38;5;132;01m{value2}\u001b[39;00m\u001b[38;5;124m, units do not \u001b[39m\u001b[38;5;124m'\u001b[39m\n\u001b[0;32m   1361\u001b[0m                    \u001b[38;5;124m'\u001b[39m\u001b[38;5;124mmatch\u001b[39m\u001b[38;5;124m'\u001b[39m) \u001b[38;5;241m%\u001b[39m operator_str\n\u001b[1;32m-> 1362\u001b[0m         _, other_dim \u001b[38;5;241m=\u001b[39m \u001b[43mfail_for_dimension_mismatch\u001b[49m\u001b[43m(\u001b[49m\u001b[38;5;28;43mself\u001b[39;49m\u001b[43m,\u001b[49m\u001b[43m \u001b[49m\u001b[43mother\u001b[49m\u001b[43m,\u001b[49m\u001b[43m \u001b[49m\u001b[43mmessage\u001b[49m\u001b[43m,\u001b[49m\n\u001b[0;32m   1363\u001b[0m \u001b[43m                                                   \u001b[49m\u001b[43mvalue1\u001b[49m\u001b[38;5;241;43m=\u001b[39;49m\u001b[38;5;28;43mself\u001b[39;49m\u001b[43m,\u001b[49m\n\u001b[0;32m   1364\u001b[0m \u001b[43m                                                   \u001b[49m\u001b[43mvalue2\u001b[49m\u001b[38;5;241;43m=\u001b[39;49m\u001b[43mother\u001b[49m\u001b[43m)\u001b[49m\n\u001b[0;32m   1366\u001b[0m \u001b[38;5;28;01mif\u001b[39;00m other_dim \u001b[38;5;129;01mis\u001b[39;00m \u001b[38;5;28;01mNone\u001b[39;00m:\n\u001b[0;32m   1367\u001b[0m     other_dim \u001b[38;5;241m=\u001b[39m get_dimensions(other)\n",
      "File \u001b[1;32mc:\\Users\\dan\\.virtualenvs\\syde552\\lib\\site-packages\\brian2\\units\\fundamentalunits.py:188\u001b[0m, in \u001b[0;36mfail_for_dimension_mismatch\u001b[1;34m(obj1, obj2, error_message, **error_quantities)\u001b[0m\n\u001b[0;32m    186\u001b[0m         \u001b[38;5;28;01mraise\u001b[39;00m DimensionMismatchError(error_message, dim1)\n\u001b[0;32m    187\u001b[0m     \u001b[38;5;28;01melse\u001b[39;00m:\n\u001b[1;32m--> 188\u001b[0m         \u001b[38;5;28;01mraise\u001b[39;00m DimensionMismatchError(error_message, dim1, dim2)\n\u001b[0;32m    189\u001b[0m \u001b[38;5;28;01melse\u001b[39;00m:\n\u001b[0;32m    190\u001b[0m     \u001b[38;5;28;01mreturn\u001b[39;00m dim1, dim2\n",
      "\u001b[1;31mDimensionMismatchError\u001b[0m: Cannot calculate -65. mV + -6.5 mA, units do not match (units are V and A)."
     ]
    }
   ],
   "source": [
    "v_demo + i_demo  # volts + amps = (invalid) - should produce a DimensionMismatchError"
   ]
  },
  {
   "cell_type": "markdown",
   "metadata": {},
   "source": [
    "Equations are written as strings, adding a ```: unit``` at the end"
   ]
  },
  {
   "cell_type": "code",
   "execution_count": 5,
   "metadata": {},
   "outputs": [],
   "source": [
    "tau = 10*ms\n",
    "eqn = '''dv/dt = -v/tau : mV'''"
   ]
  },
  {
   "cell_type": "markdown",
   "metadata": {},
   "source": [
    "Note that ```mV``` describes the unit for the new variable ```v``` that is being defined by the equation, not the quantity on the left-hand-side (which would here be mV/s).\n",
    "\n",
    "If you want to have the variable be unitless, you can type ```: 1```."
   ]
  },
  {
   "cell_type": "code",
   "execution_count": 6,
   "metadata": {},
   "outputs": [],
   "source": [
    "eqn = '''\n",
    "dv/dt = (1-v)/tau: 1  # leak towards v_eq=1 \n",
    "'''"
   ]
  },
  {
   "cell_type": "markdown",
   "metadata": {},
   "source": [
    "Create a neuron by defining an \"ensemble\" (population) of neurons"
   ]
  },
  {
   "cell_type": "code",
   "execution_count": 7,
   "metadata": {},
   "outputs": [],
   "source": [
    "ens = NeuronGroup(1, eqn, method='exact')  # n=1 neurons in the population, \"exact\" numerical integration"
   ]
  },
  {
   "cell_type": "markdown",
   "metadata": {},
   "source": [
    "Set up a probe to record state variables from neurons in ```ens```"
   ]
  },
  {
   "cell_type": "code",
   "execution_count": 8,
   "metadata": {},
   "outputs": [],
   "source": [
    "p = StateMonitor(ens, 'v', record=True)"
   ]
  },
  {
   "cell_type": "markdown",
   "metadata": {},
   "source": [
    "Run the simulation"
   ]
  },
  {
   "cell_type": "code",
   "execution_count": 12,
   "metadata": {},
   "outputs": [],
   "source": [
    "run(100*ms)"
   ]
  },
  {
   "cell_type": "markdown",
   "metadata": {},
   "source": [
    "Plot the result"
   ]
  },
  {
   "cell_type": "code",
   "execution_count": 13,
   "metadata": {},
   "outputs": [
    {
     "data": {
      "image/png": "[encoded data removed]",
      "text/plain": [
       "<Figure size 640x480 with 1 Axes>"
      ]
     },
     "metadata": {},
     "output_type": "display_data"
    }
   ],
   "source": [
    "fig, ax = plt.subplots()\n",
    "ax.plot(p.t, p.v[0])  # measuring from the first neuron in \"ens\" [index=0]\n",
    "ax.set(xlabel='time (s)', ylabel='voltage')\n",
    "plt.show()"
   ]
  },
  {
   "cell_type": "markdown",
   "metadata": {},
   "source": [
    "Now let's add in a spiking mechanism, which includes a \"threshold\" and a \"reset\" mechanism.\n",
    "\n",
    "The ```threshold``` block defines the condition which must be met to register a \"spike\".\n",
    "\n",
    "The ```reset``` block defines what happens when a spike occurs.\n",
    "\n",
    "Before we start, let's explicitly create a scope for this particular model. This avoids accidentally carrying over from variables / constants defined earlier in the notebook."
   ]
  },
  {
   "cell_type": "code",
   "execution_count": 14,
   "metadata": {},
   "outputs": [],
   "source": [
    "start_scope()\n",
    "\n",
    "tau = 10*ms\n",
    "v_target = 10*mV\n",
    "theta = 5*mV\n",
    "v_reset = -20*mV\n",
    "\n",
    "eqn = '''dv/dt = (v_target - v)/tau : volt'''\n",
    "\n",
    "ens = NeuronGroup(1, eqn, threshold='v>theta', reset='v = v_reset', method='euler')"
   ]
  },
  {
   "cell_type": "markdown",
   "metadata": {},
   "source": [
    "Notice that we started using real units, and changed our numerical integration scheme to a simple numerical solver (Euler's Method)\n",
    "\n",
    "We also need to define a new type of probe to collect spikes"
   ]
  },
  {
   "cell_type": "code",
   "execution_count": 15,
   "metadata": {},
   "outputs": [],
   "source": [
    "p = StateMonitor(ens, 'v', record=True)\n",
    "p_s = SpikeMonitor(ens)"
   ]
  },
  {
   "cell_type": "code",
   "execution_count": 16,
   "metadata": {},
   "outputs": [
    {
     "data": {
      "image/png": "[encoded data removed]",
      "text/plain": [
       "<Figure size 640x480 with 1 Axes>"
      ]
     },
     "metadata": {},
     "output_type": "display_data"
    }
   ],
   "source": [
    "run(50*ms)\n",
    "\n",
    "fig, ax = plt.subplots()\n",
    "ax.plot(p.t, p.v[0])\n",
    "ax.scatter(p_s.t, theta*np.ones((len(p_s.t))), color='r')\n",
    "ax.set(xlabel='time (ms)', ylabel='voltage (V)')\n",
    "plt.show()"
   ]
  },
  {
   "cell_type": "markdown",
   "metadata": {},
   "source": [
    "Reset and refractory mechanisms can also be specified as complex expressions, each defined by its own string.\n",
    "\n",
    "We'll add a unitless state variable ```a``` that is incremented when a spike occurs, and increases the spike threshold and the refractor period"
   ]
  },
  {
   "cell_type": "code",
   "execution_count": 17,
   "metadata": {},
   "outputs": [
    {
     "data": {
      "image/png": "[encoded data removed]",
      "text/plain": [
       "<Figure size 640x480 with 1 Axes>"
      ]
     },
     "metadata": {},
     "output_type": "display_data"
    }
   ],
   "source": [
    "start_scope()\n",
    "\n",
    "tau = 10*ms\n",
    "v_target = 30*mV\n",
    "theta = 5*mV\n",
    "v_reset = -20*mV\n",
    "\n",
    "eqn = '''\n",
    "dv/dt = (v_target - v)/tau : volt  (unless refractory)\n",
    "a : 1  # unitless\n",
    "'''\n",
    "\n",
    "thr = '''v > theta + a*volt'''  # convert a to volts to allow addition\n",
    "\n",
    "rst = '''\n",
    "v = v_reset\n",
    "a += 0.01\n",
    "'''\n",
    "\n",
    "ref = '''a*200*ms'''\n",
    "\n",
    "ens = NeuronGroup(1, eqn, threshold=thr, reset=rst, refractory=ref, method='euler')\n",
    "\n",
    "p_v = StateMonitor(ens, 'v', record=True)\n",
    "p_a = StateMonitor(ens, 'a', record=True)\n",
    "p_s = SpikeMonitor(ens)\n",
    "\n",
    "run(100*ms)\n",
    "\n",
    "fig, ax = plt.subplots()\n",
    "ax.plot(p_v.t, p_v.v[0])\n",
    "ax.plot(p_a.t, p_a.a[0])\n",
    "ax.scatter(p_s.t, np.zeros((p_s.t.shape)), color='r')\n",
    "ax.set(xlabel='time (ms)', ylabel='voltage (V)')\n",
    "plt.show()"
   ]
  },
  {
   "cell_type": "markdown",
   "metadata": {},
   "source": [
    "# Question 1: LIF Neuron\n",
    "\n",
    "## 1.1 [2 points] Implement the LIF neuron. Simulate the neuron with a 2mA external current. Plot voltage vs time.\n",
    "\n",
    "#### Equations: \n",
    "$\\frac{dV}{dt} = -\\frac{1}{RC}(V - E_{leak}) + \\frac{1}{C}I_{ext}$\n",
    "\n",
    "if $V>V_{thr}$:\n",
    "- set $V=V_{reset}$\n",
    "- begin a refractory period of $\\tau_{ref}$ ms\n",
    " \n",
    "#### Constants:\n",
    " - $R = 10$ ohm\n",
    " - $C = 1$ mfarad\n",
    " - $\\tau_{ref} = 2$ ms\n",
    " - $E_{leak} = -65$ mV\n",
    " - $V_{thr} = -50$ mV\n",
    " - $V_{reset} = -80$ mV\n",
    " - $I_{ext} = 2$ mA\n",
    " \n",
    "#### Notes\n",
    " - set state variables using ```ens.v = v_initial```"
   ]
  },
  {
   "cell_type": "code",
   "execution_count": 18,
   "metadata": {},
   "outputs": [],
   "source": [
    "# your solution here\n",
    "\n",
    "# constant = ...\n",
    "# eqn = ''' dv/dt = ... : volt'''\n",
    "# threshold = ''' ... '''\n",
    "# reset = ''' ... '''\n",
    "# refractory = ''' ... '''\n",
    "# ens = NeuronGroup(...)\n",
    "# probe = ...\n",
    "# run(100*ms)\n",
    "# figure = ..."
   ]
  },
  {
   "cell_type": "markdown",
   "metadata": {},
   "source": [
    "## 1.2 [2 points] Create response curves for the LIF neuron\n",
    " - (a) Inject a constant test current into the neuron, run the simulation, and count the number of spikes. Repeat this for a variety of test currents, then plot average firing rate (spikes/second) versus input current.\n",
    " - (b) Choose a new value of R or C, run the experiment from (a) again, and add the new response curve to your plot\n",
    " - (c) Choose a new value of tau_ref, run the experiment from (a) again, and overlay the new resopnse curve to your plot\n",
    "\n",
    "#### Parameters\n",
    "- Test currents: 1-20mA in increments of 0.5mA\n",
    "- Simulation duration: $200$ms"
   ]
  },
  {
   "cell_type": "code",
   "execution_count": 19,
   "metadata": {},
   "outputs": [],
   "source": [
    "# your solution here\n",
    "\n",
    "# def LIF_response(I, R, C, tau_ref):\n",
    "    # ...\n",
    "    # run(100*ms)\n",
    "    # return (spike_count)\n",
    "    \n",
    "# for i in range(len(I)):\n",
    "#     spike_counts_a[i] = LIF_response(I[i], R1, C1, tau_ref1)\n",
    "# for i in range(len(I)):\n",
    "#     spike_counts_b[i] = LIF_response(I[i], R2, C2, tau_ref1)\n",
    "# for i in range(len(I)):\n",
    "#     spike_counts_c[i] = LIF_response(I[i], R1, C1, tau_ref2)\n",
    "\n",
    "# plot spike_counts_a, spike_counts_b, spike_counts_c"
   ]
  },
  {
   "cell_type": "markdown",
   "metadata": {},
   "source": [
    "## 1.3 [2 points] Add an adaptation term to the LIF neuron. Calculate the inter-spike-interval and plot it versus spike number to demonstrate adaptation.\n",
    " - Inter-spike-interval (ISI) is defined as the length of time between two spikes. To calculate it, compute the difference between the spike times returned from a BRIAN spike monitor\n",
    "   - tip: use ```np.diff()```\n",
    " - Plot the resulting array of values as a scatter plot: $y$ values will be ISI in ms, and $x$ values will range from $1$ to $C$, the spike count value at the end of the simulation.\n",
    "\n",
    "#### Additional Equations\n",
    "$\\frac{da}{dt} = -\\frac{a}{\\tau_a}$\n",
    "\n",
    "$v_{thr} = -50mV + a$\n",
    "\n",
    "if $v > v_{thr}$:\n",
    "  - $a = a + \\Delta A$\n",
    "  \n",
    "#### Additional Constants\n",
    "- $I_{ext} = 2$mA\n",
    "- $\\tau_a = 100$ ms\n",
    "- $\\Delta A = 1$ mV\n",
    "- runtime = 500 ms"
   ]
  },
  {
   "cell_type": "code",
   "execution_count": 20,
   "metadata": {},
   "outputs": [],
   "source": [
    "# your solution here"
   ]
  },
  {
   "cell_type": "markdown",
   "metadata": {},
   "source": [
    "## [Bonus] 1.4 [1 point] Read about other extensions to the LIF model, such as quadratic- or exponential-integrate-and fire. Implement that neuron model, then\n",
    " - (a) plot the voltage trace\n",
    " - (b) plot the response curve\n",
    " - (c) plot spike adaptation"
   ]
  },
  {
   "cell_type": "code",
   "execution_count": 21,
   "metadata": {},
   "outputs": [],
   "source": [
    "# your solution here (optional)"
   ]
  },
  {
   "cell_type": "markdown",
   "metadata": {},
   "source": [
    "# Question 2: Wilson Neuron\n",
    "In his 1999 paper \"Simplified dynamics of human and mammalian neocortical neurons\", Wilson reduced the Hodgkin-Huxley model down to three coupled differential equations. He showed that this neuron model reproduced action potential dynamics and other electrophysiological measures without any artificial reset mechanisms.\n",
    "\n",
    "- $\\tau_v \\frac{dv}{dt} = -(17.81 + 47.58v + 33.80v^2)(v - 0.48) - 26r(v + 0.95) - 13h(v + 0.95) + I_{ext}$\n",
    "- $\\tau_r \\frac{dr}{dt} = -r + 1.29v + 0.79 + 3.30(V + 0.38)^2$\n",
    "- $\\tau_h \\frac{dh}{dt} = -h + 11(v + 0.754)*(v + 0.69)$"
   ]
  },
  {
   "cell_type": "markdown",
   "metadata": {},
   "source": [
    "where $v$ is voltage, $r$ is a recovery variable, and $h$ is a conductance variable."
   ]
  },
  {
   "cell_type": "markdown",
   "metadata": {},
   "source": [
    "- $\\tau_v = 0.97$ms\n",
    "- $\\tau_r = 5.6$ms\n",
    "- $\\tau_H = 99.0$ms\n",
    "- $dt = 0.05$ms"
   ]
  },
  {
   "cell_type": "markdown",
   "metadata": {},
   "source": [
    "## 2.1 [2 points] Implement the Wilson Neuron.  Produce an action potential by injecting an external current (I=3 for 0.1ms). Plot voltage vs time. How does the shape of the action potential compare to observed electrophysiology?\n",
    "\n",
    "#### Tips:\n",
    " - Units are weirdly defined in this model: ```v``` varies between $-0.9$ and $0.3$, and time constants are given in seconds. It's easiest to just make the state variables unitless (e.g.```dv/dt = ... : 1```)\n",
    " - set the simulation timestep using ```defaultclock.dt = 0.025*ms```\n",
    " - set initial conditions to keep the neuron from firing a transient spike at simulation startup:\n",
    "  - $v_0=-0.75$\n",
    "  - $r_0=0.2$\n",
    " - use ```v**2``` to write powers in an ```eqn=''' ... '''``` block, not ```v^2```\n",
    " - run the simulation long enough to observe the full recovery period"
   ]
  },
  {
   "cell_type": "code",
   "execution_count": 22,
   "metadata": {},
   "outputs": [],
   "source": [
    "# your solution here"
   ]
  },
  {
   "cell_type": "markdown",
   "metadata": {},
   "source": [
    "##### Your description of the action potential here"
   ]
  },
  {
   "cell_type": "markdown",
   "metadata": {},
   "source": [
    "### 2.2 [1 point] Coupled ODEs in complex neuron models are numerically sensitive, and the system can explode under certain conditions. Show that increasing the timestep or injecting a powerful, sustained current produces unrealistic voltage traces."
   ]
  },
  {
   "cell_type": "code",
   "execution_count": 23,
   "metadata": {},
   "outputs": [],
   "source": [
    "# your solution here"
   ]
  },
  {
   "cell_type": "markdown",
   "metadata": {},
   "source": [
    "## 2.3 [1 point] Show the Wilson neuron exhibits spike adaptation by plotting ISI versus spike number. How does this adaptation compare to the adaptive LIF neuron from Question 1.3?\n",
    "\n",
    "#### Note\n",
    "- you will need to think of a good way to define a \"spike\" for continuous voltages"
   ]
  },
  {
   "cell_type": "code",
   "execution_count": 24,
   "metadata": {},
   "outputs": [],
   "source": [
    "# your solution here"
   ]
  },
  {
   "cell_type": "markdown",
   "metadata": {},
   "source": [
    "# Intro to BRIAN2 (compartmental models)\n",
    "\n",
    "BRIAN2 also support multicompartment models (https://brian2.readthedocs.io/en/stable/user/multicompartmental.html).  In addition to defining the equations governing the membrane dynamics (i.e. ion channels), building a compartmental neuron requires specifying a morphology. To do this, we'll use BRIAN2's pre-built sections"
   ]
  },
  {
   "cell_type": "code",
   "execution_count": 25,
   "metadata": {},
   "outputs": [],
   "source": [
    "soma = Soma(diameter=30*um)  # defines a sphere"
   ]
  },
  {
   "cell_type": "markdown",
   "metadata": {},
   "source": [
    "Attach new sections to a previously defined section like so"
   ]
  },
  {
   "cell_type": "code",
   "execution_count": 26,
   "metadata": {},
   "outputs": [],
   "source": [
    "soma.axon = Cylinder(length=100*um, diameter=1*um, n=10)  # n=10 compartments in this section\n",
    "soma.dendrite = Cylinder(length=50*um, diameter=2*um, n=5)\n",
    "soma.dendrite.branch1 = Cylinder(length=10*um, diameter=1*um, n=3)\n",
    "soma.dendrite.branch2 = Cylinder(length=10*um, diameter=1*um, n=3)"
   ]
  },
  {
   "cell_type": "markdown",
   "metadata": {},
   "source": [
    "Now we can define a SpatialNeuron according to our biophysical equations. BRIAN will automatically solve the cable equation between all the compartments, so specifying $\\frac{dv}{dt}$ and $\\frac{d^2v}{dx^2}$ is unnecessary: the user only needs to define the transmembrane and external currents. Notice that physical constants and state variables are now defined relative to space."
   ]
  },
  {
   "cell_type": "code",
   "execution_count": 27,
   "metadata": {},
   "outputs": [],
   "source": [
    "gL = 1e-4*siemens/cm**2  # leak conductance\n",
    "Cm = 1*uF/cm**2  # membrane capacitance\n",
    "Ri = 100*ohm*cm  # longitudinal (intracellular) resistivity\n",
    "EL = -70*mV  # leak reversal potential\n",
    "\n",
    "eqn = '''\n",
    "Im = gL * (EL - v) : amp/meter**2  # total ionic (membrance) current\n",
    "I : amp (point current)  # external current\n",
    "# dv/dt, d2v/dx2, and I_long are calculated automatically\n",
    "'''\n",
    "\n",
    "neuron = SpatialNeuron(morphology=soma, model=eqn, Cm=Cm, Ri=Ri)"
   ]
  },
  {
   "cell_type": "markdown",
   "metadata": {},
   "source": [
    "Set the membrane voltage of all compartments to -65mV, then apply an external current a few specific compartments. Note the use of ```.main``` to target a specific compartment"
   ]
  },
  {
   "cell_type": "code",
   "execution_count": 28,
   "metadata": {},
   "outputs": [],
   "source": [
    "neuron.v = EL + 10*mV  # applies to state variables in soma compartment AND all connected compartments\n",
    "neuron.main.v = EL + 10*mV  # applies to state variables in soma compartment\n",
    "neuron.main.I[0] = 1*nA  # applies only to soma\n",
    "neuron.dendrite.I[3] = 0.5*nA  # applies to a compartment part way down the dendrite\n",
    "neuron.dendrite.branch1.I[1] = 0.5*nA"
   ]
  },
  {
   "cell_type": "markdown",
   "metadata": {},
   "source": [
    "To detect spikes, we'll add a threshold condition. To ensure that multiple spikes don't get registered if this condition remains true for a while (e.g. v>v_thr), we'll also specify a refractory condition."
   ]
  },
  {
   "cell_type": "code",
   "execution_count": 29,
   "metadata": {},
   "outputs": [],
   "source": [
    "neuron = SpatialNeuron(morphology=soma, model=eqn,\n",
    "    threshold='v > 0*mV',\n",
    "    threshold_location=neuron.main[0],\n",
    "    refractory='v > 0*mV',\n",
    "    method=\"exponential_euler\")"
   ]
  },
  {
   "cell_type": "markdown",
   "metadata": {},
   "source": [
    "# Question 3: Hodgkin Huxley Neurons\n",
    "\n",
    "A template for the Hodgkin-Huxley model is provided below, including various physical constants and a simple morphology. Note that voltage has been rescaled to $v_{rest} = 0$mV, and the equations for the gating variables have shifted accordingly."
   ]
  },
  {
   "cell_type": "markdown",
   "metadata": {},
   "source": [
    "## 3.1 [2 points] Implement the Hodgkin-Huxley model by filling in the provided template. Plot voltage vs time and $m$, $n$, and $h$ versus time for an external input of ```1uA``` applied over ```3ms```. "
   ]
  },
  {
   "cell_type": "code",
   "execution_count": 30,
   "metadata": {},
   "outputs": [
    {
     "ename": "SyntaxError",
     "evalue": "Unknown syntax: List (<string>)",
     "output_type": "error",
     "traceback": [
      "Traceback \u001b[1;36m(most recent call last)\u001b[0m:\n",
      "\u001b[1;36m  File \u001b[1;32mc:\\Users\\dan\\.virtualenvs\\syde552\\lib\\site-packages\\brian2\\parsing\\rendering.py:78\u001b[1;36m in \u001b[1;35mrender_node\u001b[1;36m\n\u001b[1;33m    return getattr(self, methname)(node)\u001b[1;36m\n",
      "\u001b[1;31mAttributeError\u001b[0m\u001b[1;31m:\u001b[0m 'SympyNodeRenderer' object has no attribute 'render_List'\n",
      "\nDuring handling of the above exception, another exception occurred:\n",
      "Traceback \u001b[1;36m(most recent call last)\u001b[0m:\n",
      "\u001b[0m  File \u001b[0;32mc:\\Users\\dan\\.virtualenvs\\syde552\\lib\\site-packages\\IPython\\core\\interactiveshell.py:3508\u001b[0m in \u001b[0;35mrun_code\u001b[0m\n    exec(code_obj, self.user_global_ns, self.user_ns)\u001b[0m\n",
      "\u001b[0m  Cell \u001b[0;32mIn[30], line 30\u001b[0m\n    neuron = SpatialNeuron(morphology=cable, model=eqn, method=\"exponential_euler\", Cm=C_m, Ri=R_l)\u001b[0m\n",
      "\u001b[0m  File \u001b[0;32mc:\\Users\\dan\\.virtualenvs\\syde552\\lib\\site-packages\\brian2\\spatialneuron\\spatialneuron.py:239\u001b[0m in \u001b[0;35m__init__\u001b[0m\n    model = Equations(model)\u001b[0m\n",
      "\u001b[0m  File \u001b[0;32mc:\\Users\\dan\\.virtualenvs\\syde552\\lib\\site-packages\\brian2\\equations\\equations.py:554\u001b[0m in \u001b[0;35m__init__\u001b[0m\n    self._equations = parse_string_equations(eqns)\u001b[0m\n",
      "\u001b[0m  File \u001b[0;32mc:\\Users\\dan\\.virtualenvs\\syde552\\lib\\site-packages\\brian2\\utils\\caching.py:101\u001b[0m in \u001b[0;35mcached_func\u001b[0m\n    func._cache[cache_key] = func(*args, **kwds)\u001b[0m\n",
      "\u001b[0m  File \u001b[0;32mc:\\Users\\dan\\.virtualenvs\\syde552\\lib\\site-packages\\brian2\\equations\\equations.py:366\u001b[0m in \u001b[0;35mparse_string_equations\u001b[0m\n    expression = Expression(p.sub(' ', expression))\u001b[0m\n",
      "\u001b[0m  File \u001b[0;32mc:\\Users\\dan\\.virtualenvs\\syde552\\lib\\site-packages\\brian2\\equations\\codestrings.py:107\u001b[0m in \u001b[0;35m__init__\u001b[0m\n    str_to_sympy(code)\u001b[0m\n",
      "\u001b[0m  File \u001b[0;32mc:\\Users\\dan\\.virtualenvs\\syde552\\lib\\site-packages\\brian2\\parsing\\sympytools.py:76\u001b[0m in \u001b[0;35mstr_to_sympy\u001b[0m\n    return _str_to_sympy(expr)\u001b[0m\n",
      "\u001b[0m  File \u001b[0;32mc:\\Users\\dan\\.virtualenvs\\syde552\\lib\\site-packages\\brian2\\utils\\caching.py:101\u001b[0m in \u001b[0;35mcached_func\u001b[0m\n    func._cache[cache_key] = func(*args, **kwds)\u001b[0m\n",
      "\u001b[0m  File \u001b[0;32mc:\\Users\\dan\\.virtualenvs\\syde552\\lib\\site-packages\\brian2\\parsing\\sympytools.py:82\u001b[0m in \u001b[0;35m_str_to_sympy\u001b[0m\n    s_expr = SympyNodeRenderer().render_expr(expr)\u001b[0m\n",
      "\u001b[0m  File \u001b[0;32mc:\\Users\\dan\\.virtualenvs\\syde552\\lib\\site-packages\\brian2\\parsing\\rendering.py:66\u001b[0m in \u001b[0;35mrender_expr\u001b[0m\n    return self.render_node(node.body)\u001b[0m\n",
      "\u001b[1;36m  File \u001b[1;32mc:\\Users\\dan\\.virtualenvs\\syde552\\lib\\site-packages\\brian2\\parsing\\rendering.py:80\u001b[1;36m in \u001b[1;35mrender_node\u001b[1;36m\n\u001b[1;33m    raise SyntaxError(f\"Unknown syntax: {nodename}\")\u001b[1;36m\n",
      "\u001b[1;36m  File \u001b[1;32m<string>\u001b[1;36m\u001b[0m\n\u001b[1;31mSyntaxError\u001b[0m\u001b[1;31m:\u001b[0m Unknown syntax: List\n"
     ]
    }
   ],
   "source": [
    "start_scope()\n",
    "\n",
    "E_leak = 10.613*mV\n",
    "E_na = 115*mV\n",
    "E_k = -12*mV\n",
    "g_leak = 0.3*msiemens/cm**2\n",
    "g_na = 120*msiemens/cm**2\n",
    "g_k = 36*msiemens/cm**2\n",
    "C_m = 1*uF/cm**2\n",
    "R_l = 35.4*ohm*cm\n",
    "\n",
    "# Fill in these equations\n",
    "eqn = '''\n",
    "Im = [...]  : amp/meter**2\n",
    "dm/dt = [...] : 1\n",
    "dn/dt = [...] : 1\n",
    "dh/dt = [...] : 1\n",
    "\n",
    "alpha_m = (0.1/mV) * 10*mV/exprel((-v+25*mV)/(10*mV))/ms : Hz  # exprel(x) := (exp(x) - 1)/x\n",
    "beta_m = 4 * exp(-v/(18*mV))/ms : Hz\n",
    "alpha_h = 0.07 * exp(-v/(20*mV))/ms : Hz\n",
    "beta_h = 1/(exp((-v+30*mV) / (10*mV)) + 1)/ms : Hz\n",
    "alpha_n = (0.01/mV) * 10*mV/exprel((-v+10*mV)/(10*mV))/ms : Hz\n",
    "beta_n = 0.125*exp(-v/(80*mV))/ms : Hz\n",
    "I : amp (point current)  # applied external current\n",
    "'''\n",
    "\n",
    "cable = Cylinder(length=10*cm, diameter=2*238*um, n=1000, type='axon')\n",
    "\n",
    "neuron = SpatialNeuron(morphology=cable, model=eqn, method=\"exponential_euler\", Cm=C_m, Ri=R_l)\n",
    "\n",
    "neuron.v = 0*mV\n",
    "neuron.h = 0.6\n",
    "neuron.m = 0.1\n",
    "neuron.n = 0.3\n",
    "defaultclock.dt = 0.01*ms\n",
    "\n",
    "run(10*ms)\n",
    "neuron.I[0] = 1*uA # current injection at one end of the axon\n",
    "run(3*ms)\n",
    "neuron.I = 0*uA\n",
    "run(10*ms)\n",
    "\n",
    "# plots here"
   ]
  },
  {
   "cell_type": "markdown",
   "metadata": {},
   "source": [
    "## 3.2 [0.5 point] Show that the action potential propagates down the cable with minimal attenuation.\n",
    "- (a) plot voltage vs time at three points on the ```cable```: the left edge, center, and right edge.\n",
    "- (b) increase the longitudinal resistance and show that the signal propagates slower. "
   ]
  },
  {
   "cell_type": "code",
   "execution_count": null,
   "metadata": {},
   "outputs": [],
   "source": [
    "# your solution here"
   ]
  },
  {
   "cell_type": "markdown",
   "metadata": {},
   "source": [
    "## 3.3 [0.5 point] Create a stimulus that produces a rebound spike, and plot the resulting voltage trace"
   ]
  },
  {
   "cell_type": "code",
   "execution_count": null,
   "metadata": {},
   "outputs": [],
   "source": [
    "# your solution here"
   ]
  },
  {
   "cell_type": "markdown",
   "metadata": {},
   "source": [
    "## 3.4 [2 points] Create a new cell morphology that includes a soma and a dendritic tree with one branch. Show that voltage attenuation increases with the distance from the soma.\n",
    "- Use ```Cylinder()``` for dendritic sections, with geometric parameters in these ranges:\n",
    " - ```length=10-100um```\n",
    " - ```diameter=0.1-1um```\n",
    " - ```n=5-100```\n",
    "- Choose several points along the tree as injection sites.\n",
    "- For each site, apply an identical external current ```I=100*pA``` and measure the resulting voltage change at the soma ($\\Delta v = v_{rest} - v_{max}$).\n",
    "- Plot $\\Delta v$ vs distance. How does attenuation vary within a section and between sections (especially at branch points)?"
   ]
  },
  {
   "cell_type": "code",
   "execution_count": null,
   "metadata": {},
   "outputs": [],
   "source": [
    "# your solution here\n",
    "\n",
    "# soma = Soma()\n",
    "# soma.d1 = Cylinder(...)\n",
    "# soma.d1.d2 = Cylinder(...)\n",
    "# soma.d1.d3 = Cylinder(...)"
   ]
  },
  {
   "cell_type": "markdown",
   "metadata": {},
   "source": [
    "Your description of attenuation here"
   ]
  }
 ],
 "metadata": {
  "kernelspec": {
   "display_name": "Python 3 (ipykernel)",
   "language": "python",
   "name": "python3"
  },
  "language_info": {
   "codemirror_mode": {
    "name": "ipython",
    "version": 3
   },
   "file_extension": ".py",
   "mimetype": "text/x-python",
   "name": "python",
   "nbconvert_exporter": "python",
   "pygments_lexer": "ipython3",
   "version": "3.8.0"
  }
 },
 "nbformat": 4,
 "nbformat_minor": 4
}
